{
  "nbformat": 4,
  "nbformat_minor": 0,
  "metadata": {
    "colab": {
      "provenance": []
    },
    "kernelspec": {
      "name": "python3",
      "display_name": "Python 3"
    },
    "language_info": {
      "name": "python"
    }
  },
  "cells": [
    {
      "cell_type": "markdown",
      "source": [
        "```\n",
        "# Copyright 2023 Google Inc.\n",
        "\n",
        "# Licensed under the Apache License, Version 2.0 (the \"License\");\n",
        "# you may not use this file except in compliance with the License.\n",
        "# You may obtain a copy of the License at\n",
        "\n",
        "#     http://www.apache.org/licenses/LICENSE-2.0\n",
        "\n",
        "# Unless required by applicable law or agreed to in writing, software\n",
        "# distributed under the License is distributed on an \"AS IS\" BASIS,\n",
        "# WITHOUT WARRANTIES OR CONDITIONS OF ANY KIND, either express or implied.\n",
        "# See the License for the specific language governing permissions and\n",
        "# limitations under the License.\n",
        "```"
      ],
      "metadata": {
        "id": "Nc5z20tucbYc"
      }
    },
    {
      "cell_type": "markdown",
      "source": [
        "This colab supports UniProt 2023_01, where Google predicted protein names for 10s of millions of proteins previously named \"Uncharacterized protein\".\n",
        "\n",
        "You can run this file to check whether any prediction (especially for previously \"Uncharacterized\" proteins) produced by Google's systems is supported by other sources.\n",
        "\n",
        "\n",
        "**Paste in the UniProt accession of the protein below!**"
      ],
      "metadata": {
        "id": "NrIKMuHM_pS2"
      }
    },
    {
      "cell_type": "markdown",
      "source": [
        "# Imports and dependencies"
      ],
      "metadata": {
        "id": "yvGAanHAsf04"
      }
    },
    {
      "cell_type": "code",
      "source": [
        "!apt-get install pigz"
      ],
      "metadata": {
        "id": "o43XlscFsCIZ",
        "colab": {
          "base_uri": "https://localhost:8080/"
        },
        "outputId": "c502c1b1-17cf-417b-a258-1d1c8b48cf5d"
      },
      "execution_count": 48,
      "outputs": [
        {
          "output_type": "stream",
          "name": "stdout",
          "text": [
            "Reading package lists... Done\n",
            "Building dependency tree       \n",
            "Reading state information... Done\n",
            "pigz is already the newest version (2.4-1).\n",
            "0 upgraded, 0 newly installed, 0 to remove and 19 not upgraded.\n"
          ]
        }
      ]
    },
    {
      "cell_type": "code",
      "source": [
        "!pip install binary_file_search"
      ],
      "metadata": {
        "id": "YhaVGrgU98Qe",
        "colab": {
          "base_uri": "https://localhost:8080/"
        },
        "outputId": "e547302f-1403-4709-e574-3d0d78567114"
      },
      "execution_count": 49,
      "outputs": [
        {
          "output_type": "stream",
          "name": "stdout",
          "text": [
            "Looking in indexes: https://pypi.org/simple, https://us-python.pkg.dev/colab-wheels/public/simple/\n",
            "Requirement already satisfied: binary_file_search in /usr/local/lib/python3.8/dist-packages (0.7)\n"
          ]
        }
      ]
    },
    {
      "cell_type": "code",
      "execution_count": 50,
      "metadata": {
        "id": "ymlaxuFFWFlE"
      },
      "outputs": [],
      "source": [
        "from binary_file_search.BinaryFileSearch import BinaryFileSearch\n",
        "import IPython.display\n",
        "def print_markdown(string):\n",
        "    IPython.display.display(IPython.display.Markdown(string))"
      ]
    },
    {
      "cell_type": "markdown",
      "source": [
        "# Download evidence file and unzip\n",
        "(takes a few minutes)"
      ],
      "metadata": {
        "id": "2NbvPJy2sjFf"
      }
    },
    {
      "cell_type": "code",
      "source": [
        "!wget -c -O sorted_evidencer.csv.gz https://storage.googleapis.com/brain-genomics-public/research/proteins/protnlm/uniprot_2023_01_evidencer_sorted.csv.gz"
      ],
      "metadata": {
        "id": "DC0CFu7m9tDY",
        "colab": {
          "base_uri": "https://localhost:8080/"
        },
        "outputId": "0fbe8df9-f3cf-432a-a197-86646af4ac19"
      },
      "execution_count": 51,
      "outputs": [
        {
          "output_type": "stream",
          "name": "stdout",
          "text": [
            "--2023-02-27 22:53:30--  https://storage.googleapis.com/brain-genomics-public/research/proteins/protnlm/uniprot_2023_01_evidencer_sorted.csv.gz\n",
            "Resolving storage.googleapis.com (storage.googleapis.com)... 172.253.117.128, 142.250.107.128, 173.194.202.128, ...\n",
            "Connecting to storage.googleapis.com (storage.googleapis.com)|172.253.117.128|:443... connected.\n",
            "HTTP request sent, awaiting response... 200 OK\n",
            "Length: 317356364 (303M) [application/octet-stream]\n",
            "Saving to: ‘sorted_evidencer.csv.gz’\n",
            "\n",
            "sorted_evidencer.cs 100%[===================>] 302.65M  62.8MB/s    in 5.2s    \n",
            "\n",
            "2023-02-27 22:53:36 (58.8 MB/s) - ‘sorted_evidencer.csv.gz’ saved [317356364/317356364]\n",
            "\n"
          ]
        }
      ]
    },
    {
      "cell_type": "code",
      "source": [
        "!unpigz -fk sorted_evidencer.csv.gz"
      ],
      "metadata": {
        "id": "g7crO7tz919X"
      },
      "execution_count": 52,
      "outputs": []
    },
    {
      "cell_type": "markdown",
      "source": [
        "# Search for your evidence"
      ],
      "metadata": {
        "id": "cU4GrPdE_SfH"
      }
    },
    {
      "cell_type": "code",
      "source": [
        "accession = \"A0A3M3H8U9\" #@param {type:\"string\"}\n",
        "with BinaryFileSearch('sorted_evidencer.csv', sep=\",\", string_mode=True) as bfs:\n",
        "  try:\n",
        "    lines = bfs.search(accession)\n",
        "  except KeyError:\n",
        "    raise ValueError('Sorry, this protein\\'s accession wasn\\'t found in our database. Maybe check your spelling, or maybe this prediction wasn\\'t provided by Google?')\n",
        "\n",
        "if len(lines) > 1:\n",
        "  for l in lines:\n",
        "    print(l)\n",
        "  raise ValueError('There was some sort of error - we found multiple predictions for this protein!', lines)\n",
        "\n",
        "accession, prediction, support_in_uniprot, alignment_support, structure_support = tuple(lines[0])\n",
        "\n",
        "to_print_prefix = f'The prediction **{prediction}** for **{accession}**: \\n'\n",
        "to_print = to_print_prefix\n",
        "if support_in_uniprot:\n",
        "  to_print += f\"* appears as a substring of the **UniProt page** for **{accession}**.\\n\"\n",
        "if alignment_support:\n",
        "  to_add = f\"* has a strong phmmer alignment to **{alignment_support}** (bit score > 25).\\n\"\n",
        "  to_print += to_add\n",
        "if structure_support:\n",
        "  to_add = f\"* has a structural alignment to the high-confidence AlphaFold structure for **{alignment_support}** (tmalign score > .5).\\n\"\n",
        "  to_print += to_add\n",
        "\n",
        "if to_print == to_print_prefix:\n",
        "  to_print += f\"* **no support** found with these automated methods. Perhaps the protein is very new or the prediction is wrong?\"\n",
        "\n",
        "print_markdown(to_print)"
      ],
      "metadata": {
        "colab": {
          "base_uri": "https://localhost:8080/",
          "height": 104
        },
        "cellView": "form",
        "id": "N17c3oC39_0e",
        "outputId": "bc5ba7d0-9515-4141-f159-ad076c737488"
      },
      "execution_count": 58,
      "outputs": [
        {
          "output_type": "display_data",
          "data": {
            "text/plain": [
              "<IPython.core.display.Markdown object>"
            ],
            "text/markdown": "The prediction **ATPase** for **A0A3M3H8U9**: \n* appears as a substring of the **UniProt page** for **A0A3M3H8U9**.\n* has a strong phmmer alignment to **A0A345UY82** (bit score > 25).\n* has a structural alignment to the high-confidence AlphaFold structure for **A0A345UY82** (tmalign score > .5).\n"
          },
          "metadata": {}
        }
      ]
    },
    {
      "cell_type": "markdown",
      "source": [
        "# License of downloaded data\n",
        "\n",
        "The evidencer file is licensed CC-BY 4.0 and is built based on UniProt.\n",
        "\n",
        "\"UniProt: the universal protein knowledgebase in 2021.\" Nucleic acids research 49, no. D1 (2021): D480-D489."
      ],
      "metadata": {
        "id": "jnCOhzbTJ1RM"
      }
    }
  ]
}